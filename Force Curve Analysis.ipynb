{
 "cells": [
  {
   "cell_type": "code",
   "execution_count": null,
   "id": "d349732d-d458-486f-8f7c-b53878c7b7f3",
   "metadata": {},
   "outputs": [],
   "source": []
  }
 ],
 "metadata": {
  "kernelspec": {
   "display_name": "",
   "name": ""
  },
  "language_info": {
   "name": ""
  }
 },
 "nbformat": 4,
 "nbformat_minor": 5
}
